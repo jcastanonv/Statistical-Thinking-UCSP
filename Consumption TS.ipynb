{
 "cells": [
  {
   "cell_type": "code",
   "execution_count": 2,
   "metadata": {},
   "outputs": [
    {
     "name": "stderr",
     "output_type": "stream",
     "text": [
      "Warning message:\n",
      "\"package 'forecast' is in use and will not be installed\""
     ]
    },
    {
     "name": "stdout",
     "output_type": "stream",
     "text": [
      "package 'astsa' successfully unpacked and MD5 sums checked\n",
      "\n",
      "The downloaded binary packages are in\n",
      "\tC:\\Users\\joaqu\\AppData\\Local\\Temp\\Rtmp8E48cb\\downloaded_packages\n"
     ]
    },
    {
     "name": "stderr",
     "output_type": "stream",
     "text": [
      "Warning message:\n",
      "\"package 'stats' is not available (for R version 3.6.1)\"Warning message:\n",
      "\"package 'stats' is a base package, and should not be updated\""
     ]
    },
    {
     "ename": "ERROR",
     "evalue": "Error in library(nortest): there is no package called 'nortest'\n",
     "output_type": "error",
     "traceback": [
      "Error in library(nortest): there is no package called 'nortest'\nTraceback:\n",
      "1. library(nortest)"
     ]
    }
   ],
   "source": [
    "install.packages('forecast')\n",
    "install.packages('astsa')\n",
    "install.packages('stats')\n",
    "\n",
    "library(readr)\n",
    "library(forecast)\n",
    "library(nortest)\n",
    "library(astsa)\n",
    "library(stats)"
   ]
  },
  {
   "cell_type": "code",
   "execution_count": 3,
   "metadata": {},
   "outputs": [
    {
     "name": "stderr",
     "output_type": "stream",
     "text": [
      "\n",
      "Attaching package: 'dplyr'\n",
      "\n",
      "The following objects are masked from 'package:stats':\n",
      "\n",
      "    filter, lag\n",
      "\n",
      "The following objects are masked from 'package:base':\n",
      "\n",
      "    intersect, setdiff, setequal, union\n",
      "\n"
     ]
    }
   ],
   "source": [
    "library(ggplot2)\n",
    "library(dplyr)"
   ]
  },
  {
   "cell_type": "code",
   "execution_count": 68,
   "metadata": {},
   "outputs": [
    {
     "name": "stderr",
     "output_type": "stream",
     "text": [
      "Warning message:\n",
      "\"package 'anytime' is in use and will not be installed\""
     ]
    }
   ],
   "source": [
    "install.packages('anytime')\n",
    "library(anytime)\n"
   ]
  },
  {
   "cell_type": "code",
   "execution_count": 64,
   "metadata": {},
   "outputs": [
    {
     "name": "stderr",
     "output_type": "stream",
     "text": [
      "Warning message:\n",
      "\"package 'gridExtra' is in use and will not be installed\"Warning message:\n",
      "\"package 'ggthemes' is in use and will not be installed\""
     ]
    }
   ],
   "source": [
    "install.packages('gridExtra')\n",
    "install.packages('ggthemes')\n",
    "\n",
    "library(lubridate) # for working with dates\n",
    "library(ggplot2)  # for creating graphs\n",
    "library(scales)   # to access breaks/formatting functions\n",
    "library(gridExtra)\n",
    "library(ggthemes)"
   ]
  },
  {
   "cell_type": "code",
   "execution_count": 60,
   "metadata": {},
   "outputs": [],
   "source": [
    "#ts.plot(serieA, xlab = \"Date\", ylab = \"Electrical Consumption (WH)\", main = \"Domestic Electric Consumption\")\n",
    "#points(AR_fitted, type = 'l', col=2, lty=2)"
   ]
  },
  {
   "cell_type": "code",
   "execution_count": 110,
   "metadata": {},
   "outputs": [
    {
     "name": "stderr",
     "output_type": "stream",
     "text": [
      "Parsed with column specification:\n",
      "cols(\n",
      "  OUTPUT_DATE = col_character(),\n",
      "  TYPE = col_character(),\n",
      "  Total = col_double()\n",
      ")\n"
     ]
    }
   ],
   "source": [
    "ConsumptionClear <- read_csv(\"https://raw.githubusercontent.com/jcastanonv/Statistical-Thinking-UCSP/master/ConsumptionClear.csv\")\n"
   ]
  },
  {
   "cell_type": "code",
   "execution_count": 111,
   "metadata": {},
   "outputs": [
    {
     "name": "stderr",
     "output_type": "stream",
     "text": [
      "Warning message:\n",
      "\"package 'fUnitRoots' is in use and will not be installed\""
     ]
    }
   ],
   "source": [
    "install.packages(\"fUnitRoots\")\n",
    "library(\"fUnitRoots\")\n"
   ]
  },
  {
   "cell_type": "code",
   "execution_count": 125,
   "metadata": {},
   "outputs": [
    {
     "data": {
      "text/plain": [
       "\n",
       "Title:\n",
       " KPSS Unit Root Test\n",
       "\n",
       "Test Results:\n",
       "  NA\n",
       "\n",
       "Description:\n",
       " Thu Aug 20 16:38:09 2020 by user: joaqu\n"
      ]
     },
     "metadata": {},
     "output_type": "display_data"
    },
    {
     "data": {
      "image/png": "[encoded data removed]",
      "text/plain": [
       "Plot with title \"Partial Autocorrelations of Residuals\""
      ]
     },
     "metadata": {},
     "output_type": "display_data"
    }
   ],
   "source": [
    "ConsumptionClear$OUTPUT_DATE <- anydate(ConsumptionClear$OUTPUT_DATE)\n",
    "serieA= ts(ConsumptionClear$Total)\n",
    "urkpssTest(serieA, type = c(\"tau\"), lags = c(\"short\"),use.lag = NULL, doplot = TRUE)\n"
   ]
  },
  {
   "cell_type": "code",
   "execution_count": 123,
   "metadata": {},
   "outputs": [
    {
     "data": {
      "image/png": "[encoded data removed]",
      "text/plain": [
       "plot without title"
      ]
     },
     "metadata": {},
     "output_type": "display_data"
    }
   ],
   "source": [
    "tsstationary<- diff(serieA, differences = 1)\n",
    "plot(tsstationary)"
   ]
  },
  {
   "cell_type": "code",
   "execution_count": 128,
   "metadata": {},
   "outputs": [
    {
     "name": "stdout",
     "output_type": "stream",
     "text": [
      "\n",
      " Fitting models using approximations to speed things up...\n",
      "\n",
      " ARIMA(2,0,2) with non-zero mean : 2933.693\n",
      " ARIMA(0,0,0) with non-zero mean : 2956.243\n",
      " ARIMA(1,0,0) with non-zero mean : 2927.87\n",
      " ARIMA(0,0,1) with non-zero mean : 2932.834\n",
      " ARIMA(0,0,0) with zero mean     : 3177.21\n",
      " ARIMA(2,0,0) with non-zero mean : 2930.93\n",
      " ARIMA(1,0,1) with non-zero mean : 2929.97\n",
      " ARIMA(2,0,1) with non-zero mean : Inf\n",
      " ARIMA(1,0,0) with zero mean     : 2966.187\n",
      "\n",
      " Now re-fitting the best model(s) without approximations...\n",
      "\n",
      " ARIMA(1,0,0) with non-zero mean : 2927.533\n",
      "\n",
      " Best model: ARIMA(1,0,0) with non-zero mean \n",
      "\n",
      "Series: serieA \n",
      "ARIMA(1,0,0) with non-zero mean \n",
      "\n",
      "Coefficients:\n",
      "         ar1       mean\n",
      "      0.4274  7301.0806\n",
      "s.e.  0.0730   508.2506\n",
      "\n",
      "sigma^2 estimated as 13171721:  log likelihood=-1460.69\n",
      "AIC=2927.37   AICc=2927.53   BIC=2936.44\n",
      "\n",
      "Training set error measures:\n",
      "                    ME     RMSE     MAE       MPE     MAPE      MASE\n",
      "Training set -9.284956 3605.331 2665.16 -22.35498 43.62673 0.8602124\n",
      "                    ACF1\n",
      "Training set 0.004765182\n"
     ]
    },
    {
     "name": "stderr",
     "output_type": "stream",
     "text": [
      "ERROR while rich displaying an object: Error in if (many_rows) {: argument is of length zero\n",
      "\n",
      "Traceback:\n",
      "1. FUN(X[[i]], ...)\n",
      "2. tryCatch(withCallingHandlers({\n",
      " .     if (!mime %in% names(repr::mime2repr)) \n",
      " .         stop(\"No repr_* for mimetype \", mime, \" in repr::mime2repr\")\n",
      " .     rpr <- repr::mime2repr[[mime]](obj)\n",
      " .     if (is.null(rpr)) \n",
      " .         return(NULL)\n",
      " .     prepare_content(is.raw(rpr), rpr)\n",
      " . }, error = error_handler), error = outer_handler)\n",
      "3. tryCatchList(expr, classes, parentenv, handlers)\n",
      "4. tryCatchOne(expr, names, parentenv, handlers[[1L]])\n",
      "5. doTryCatch(return(expr), name, parentenv, handler)\n",
      "6. withCallingHandlers({\n",
      " .     if (!mime %in% names(repr::mime2repr)) \n",
      " .         stop(\"No repr_* for mimetype \", mime, \" in repr::mime2repr\")\n",
      " .     rpr <- repr::mime2repr[[mime]](obj)\n",
      " .     if (is.null(rpr)) \n",
      " .         return(NULL)\n",
      " .     prepare_content(is.raw(rpr), rpr)\n",
      " . }, error = error_handler)\n",
      "7. repr::mime2repr[[mime]](obj)\n",
      "8. repr_text.ts(obj)\n",
      "9. repr_ts_generic(obj, repr_text.matrix, ...)\n",
      "10. repr_func(m, ..., rows = nrow(m), cols = ncol(m))\n",
      "11. ellip_limit_arr(obj, ...)\n",
      "12. arr_partition(a, rows, cols)\n"
     ]
    }
   ],
   "source": [
    "t1= auto.arima(serieA, trace=TRUE, stepwise = TRUE)\n",
    "summary(t1)\n",
    "\n",
    "AR_fitted<- serieA - residuals(t1)\n"
   ]
  },
  {
   "cell_type": "code",
   "execution_count": null,
   "metadata": {},
   "outputs": [],
   "source": [
    "\n"
   ]
  },
  {
   "cell_type": "code",
   "execution_count": 131,
   "metadata": {},
   "outputs": [
    {
     "data": {
      "image/png": "[encoded data removed]",
      "text/plain": [
       "plot without title"
      ]
     },
     "metadata": {},
     "output_type": "display_data"
    }
   ],
   "source": [
    "\n",
    "ConsumptionClear$OUTPUT_DATE <- anydate(ConsumptionClear$OUTPUT_DATE)\n",
    "f <- ggplot(ConsumptionClear, aes(OUTPUT_DATE, Total)) + geom_line(color='steelblue') + geom_point(na.rm=FALSE, size= 1) + ggtitle('Electricity Domestic Consumption between 2013 - 2014\\n with ARIMA(1,0,0) simulation') + xlab('Date') + ylab('Total Consumption (WH)') \n",
    "fb <- f + (scale_x_date(labels=date_format(\"%b %y\")))\n",
    "fb <- fb + theme_stata() \n",
    "fb + geom_line(aes(y= fitted(t1)), col='red')\n"
   ]
  },
  {
   "cell_type": "code",
   "execution_count": 136,
   "metadata": {},
   "outputs": [
    {
     "data": {
      "text/plain": [
       "Series:  \n",
       "ARIMA(0,1,0) \n",
       "\n",
       "sigma^2 estimated as 1.197:  log likelihood=-149.36\n",
       "AIC=300.72   AICc=300.76   BIC=303.32"
      ]
     },
     "metadata": {},
     "output_type": "display_data"
    },
    {
     "data": {
      "image/png": "[encoded data removed]",
      "text/plain": [
       "plot without title"
      ]
     },
     "metadata": {},
     "output_type": "display_data"
    }
   ],
   "source": [
    "library(forecast)\n",
    "y=arima.sim(list(ar=.9),n=100)\n",
    "arm=auto.arima(x=y)\n",
    "arm\n",
    "plot(y)\n",
    "lines(fitted(arm), col='red')"
   ]
  }
 ],
 "metadata": {
  "kernelspec": {
   "display_name": "R",
   "language": "R",
   "name": "ir"
  },
  "language_info": {
   "codemirror_mode": "r",
   "file_extension": ".r",
   "mimetype": "text/x-r-source",
   "name": "R",
   "pygments_lexer": "r",
   "version": "3.6.1"
  }
 },
 "nbformat": 4,
 "nbformat_minor": 4
}
