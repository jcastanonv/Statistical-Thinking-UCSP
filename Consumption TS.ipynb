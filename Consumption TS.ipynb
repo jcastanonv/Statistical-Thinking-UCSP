{
 "cells": [
  {
   "cell_type": "code",
   "execution_count": null,
   "metadata": {},
   "outputs": [
    {
     "name": "stdout",
     "output_type": "stream",
     "text": [
      "package 'forecast' successfully unpacked and MD5 sums checked\n"
     ]
    },
    {
     "name": "stderr",
     "output_type": "stream",
     "text": [
      "Warning message:\n",
      "\"cannot remove prior installation of package 'forecast'\"Warning message in file.copy(savedcopy, lib, recursive = TRUE):\n",
      "\"problem copying C:\\Users\\joaqu\\anaconda3\\envs\\R_diploma\\Lib\\R\\library\\00LOCK\\forecast\\libs\\x64\\forecast.dll to C:\\Users\\joaqu\\anaconda3\\envs\\R_diploma\\Lib\\R\\library\\forecast\\libs\\x64\\forecast.dll: Permission denied\"Warning message:\n",
      "\"restored 'forecast'\""
     ]
    },
    {
     "name": "stdout",
     "output_type": "stream",
     "text": [
      "\n",
      "The downloaded binary packages are in\n",
      "\tC:\\Users\\joaqu\\AppData\\Local\\Temp\\RtmpSiF9Bu\\downloaded_packages\n"
     ]
    }
   ],
   "source": [
    "install.packages('forecast')\n",
    "install.packages('astsa')\n",
    "install.packages('stats')\n",
    "\n",
    "library(readr)\n",
    "library(forecast)\n",
    "library(nortest)\n",
    "library(astsa)\n",
    "library(stats)"
   ]
  },
  {
   "cell_type": "code",
   "execution_count": null,
   "metadata": {},
   "outputs": [],
   "source": [
    "ConsumptionClear <- read_csv(\"ConsumptionClear.csv\")\n"
   ]
  },
  {
   "cell_type": "code",
   "execution_count": null,
   "metadata": {},
   "outputs": [],
   "source": [
    "serieA= ts(ConsumptionClear$Total)\n",
    "acf(serieA)\n",
    "pacf(serieA)\n",
    "tsdisplay(serieA)\n",
    "\n",
    "\n",
    "t1= auto.arima(serieA, stepwise = TRUE)\n",
    "ts.plot(serieA, xlab = \"Date\", ylab = \"Electrical Consumption (WH)\", main = \"Domestic Electric Consumption\")\n",
    "\n",
    "AR_fitted<- serieA - residuals(t1)\n",
    "points(AR_fitted, type = 'l', col=2, lty=2)\n",
    "\n"
   ]
  },
  {
   "cell_type": "code",
   "execution_count": null,
   "metadata": {},
   "outputs": [],
   "source": []
  }
 ],
 "metadata": {
  "kernelspec": {
   "display_name": "R",
   "language": "R",
   "name": "ir"
  },
  "language_info": {
   "codemirror_mode": "r",
   "file_extension": ".r",
   "mimetype": "text/x-r-source",
   "name": "R",
   "pygments_lexer": "r",
   "version": "3.6.1"
  }
 },
 "nbformat": 4,
 "nbformat_minor": 4
}
